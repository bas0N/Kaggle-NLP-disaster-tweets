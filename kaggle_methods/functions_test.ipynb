{
 "cells": [
  {
   "cell_type": "code",
   "execution_count": 1,
   "id": "5e00c761",
   "metadata": {},
   "outputs": [
    {
     "name": "stderr",
     "output_type": "stream",
     "text": [
      "[nltk_data] Downloading package stopwords to\n",
      "[nltk_data]     /Users/wojciechbasinski/nltk_data...\n",
      "[nltk_data]   Package stopwords is already up-to-date!\n",
      "[nltk_data] Downloading package wordnet to\n",
      "[nltk_data]     /Users/wojciechbasinski/nltk_data...\n",
      "[nltk_data]   Package wordnet is already up-to-date!\n",
      "[nltk_data] Downloading package averaged_perceptron_tagger to\n",
      "[nltk_data]     /Users/wojciechbasinski/nltk_data...\n",
      "[nltk_data]   Package averaged_perceptron_tagger is already up-to-\n",
      "[nltk_data]       date!\n",
      "[nltk_data] Downloading package stopwords to\n",
      "[nltk_data]     /Users/wojciechbasinski/nltk_data...\n",
      "[nltk_data]   Package stopwords is already up-to-date!\n",
      "[nltk_data] Downloading package stopwords to\n",
      "[nltk_data]     /Users/wojciechbasinski/nltk_data...\n",
      "[nltk_data]   Package stopwords is already up-to-date!\n",
      "[nltk_data] Downloading package wordnet to\n",
      "[nltk_data]     /Users/wojciechbasinski/nltk_data...\n",
      "[nltk_data]   Package wordnet is already up-to-date!\n",
      "[nltk_data] Downloading package averaged_perceptron_tagger to\n",
      "[nltk_data]     /Users/wojciechbasinski/nltk_data...\n",
      "[nltk_data]   Package averaged_perceptron_tagger is already up-to-\n",
      "[nltk_data]       date!\n"
     ]
    }
   ],
   "source": [
    "#import of the stemming method from stemming.py\n",
    "from stemming import stemming\n",
    "#import of the lemmatizing method from lemmatization.py\n",
    "\n",
    "from lemmatization import lemmatizing\n",
    "import pandas as pd"
   ]
  },
  {
   "cell_type": "code",
   "execution_count": 2,
   "id": "6e145e6c",
   "metadata": {},
   "outputs": [],
   "source": [
    "#read the set of data\n",
    "df = pd.read_csv('train_2.csv')"
   ]
  },
  {
   "cell_type": "code",
   "execution_count": 3,
   "id": "137ae0ae",
   "metadata": {},
   "outputs": [
    {
     "data": {
      "text/plain": [
       "0               deed reason earthquak may allah forgiv us\n",
       "1                    forest fire near la rong sask canada\n",
       "2       resid ask shelter place notifi offic evacu she...\n",
       "3       13000 peopl receiv wildfir evacu order california\n",
       "4       got sent photo rubi alaska smoke wildfir pour ...\n",
       "                              ...                        \n",
       "7608    two giant crane hold bridg collaps nearbi home...\n",
       "7609    ariaahrari thetawniest control wild fire calif...\n",
       "7610    m194 0104 utc5km volcano hawaii httptcozdtoyd8ebj\n",
       "7611    polic investig ebik collid car littl portug eb...\n",
       "7612    latest home raze northern california wildfir a...\n",
       "Name: text, Length: 7613, dtype: object"
      ]
     },
     "execution_count": 3,
     "metadata": {},
     "output_type": "execute_result"
    }
   ],
   "source": [
    "#call of the stemming method, providing approporiate dataframe column and file name\n",
    "#file is saved to an '/out' folder\n",
    "stemming(df['text'],'test_stemming2')"
   ]
  },
  {
   "cell_type": "code",
   "execution_count": 4,
   "id": "cc26cb24",
   "metadata": {},
   "outputs": [
    {
     "data": {
      "text/plain": [
       "0             deed reason earthquake may allah forgive us\n",
       "1                   forest fire near la ronge sask canada\n",
       "2       resident ask shelter place notify officer evac...\n",
       "3       13000 people receive wildfire evacuation order...\n",
       "4       get sent photo ruby alaska smoke wildfires pou...\n",
       "                              ...                        \n",
       "7608    two giant crane hold bridge collapse nearby ho...\n",
       "7609    ariaahrary thetawniest control wild fire calif...\n",
       "7610    m194 0104 utc5km volcano hawaii httptcozdtoyd8ebj\n",
       "7611    police investigate ebike collide car little po...\n",
       "7612    late home raze northern california wildfire ab...\n",
       "Name: text, Length: 7613, dtype: object"
      ]
     },
     "execution_count": 4,
     "metadata": {},
     "output_type": "execute_result"
    }
   ],
   "source": [
    "#call of the stemming method, providing approporiate dataframe column and file name\n",
    "#file is saved to an '/out' folder\n",
    "lemmatizing(df['text'],'test_lemmatization')"
   ]
  },
  {
   "cell_type": "code",
   "execution_count": null,
   "id": "585c4886",
   "metadata": {},
   "outputs": [],
   "source": []
  }
 ],
 "metadata": {
  "kernelspec": {
   "display_name": "Python 3 (ipykernel)",
   "language": "python",
   "name": "python3"
  },
  "language_info": {
   "codemirror_mode": {
    "name": "ipython",
    "version": 3
   },
   "file_extension": ".py",
   "mimetype": "text/x-python",
   "name": "python",
   "nbconvert_exporter": "python",
   "pygments_lexer": "ipython3",
   "version": "3.9.9"
  }
 },
 "nbformat": 4,
 "nbformat_minor": 5
}
